{
 "cells": [
  {
   "cell_type": "code",
   "execution_count": 32,
   "metadata": {
    "collapsed": false
   },
   "outputs": [
    {
     "name": "stdout",
     "output_type": "stream",
     "text": [
      "[((0, 1), 9), ((0, 2), 6), ((0, 4), 4), ((0, 5), 3), ((0, 3), 0)]\n",
      "[((1, 2), 7), ((1, 3), 5), ((1, 0), 2), ((1, 4), 1), ((1, 5), 0)]\n",
      "[((2, 4), 7), ((2, 3), 5), ((2, 1), 4), ((2, 0), 2), ((2, 5), 0)]\n",
      "[((3, 4), 9), ((3, 2), 6), ((3, 0), 3), ((3, 1), 3), ((3, 5), 0)]\n",
      "[((4, 2), 6), ((4, 3), 5), ((4, 0), 1), ((4, 1), 0), ((4, 5), 0)]\n",
      "[((5, 0), 9), ((5, 4), 9), ((5, 1), 8), ((5, 2), 4), ((5, 3), 0)]\n"
     ]
    }
   ],
   "source": [
    "from skimage import io\n",
    "import itertools\n",
    "import numpy as np\n",
    "import random\n",
    "\n",
    "def score_similarity(pair):\n",
    "    return random.randrange(0,10)\n",
    "\n",
    "def load_correct_pairs(set_path):\n",
    "    result = []\n",
    "    file = open(set_path + \"correct.txt\", mode=\"r\")\n",
    "    lines = file.readlines()\n",
    "    for idx, line in enumerate(lines):\n",
    "        result.append((idx, int(line)))\n",
    "    return result\n",
    "\n",
    "\n",
    "def rank_pairs(pairs):\n",
    "    scores = []\n",
    "    for pair in pairs:\n",
    "        s = score_similarity(pair)\n",
    "        scores.append((pair, s))\n",
    "    return sorted(scores, key=lambda x: -x[1])\n",
    "\n",
    "correct_pairs = load_correct_pairs(\"data/set0/\")\n",
    "for correct_pair in correct_pairs:\n",
    "    queried = correct_pair[0]\n",
    "    candidates = np.delete(np.arange(0,len(correct_pairs)), queried)\n",
    "    possible_pairs = list(itertools.product([queried],candidates))\n",
    "    rank = rank_pairs(possible_pairs)\n",
    "    print(rank)\n",
    "\n",
    "\n"
   ]
  }
 ],
 "metadata": {
  "kernelspec": {
   "display_name": "Python 3",
   "language": "python",
   "name": "python3"
  },
  "language_info": {
   "codemirror_mode": {
    "name": "ipython",
    "version": 3
   },
   "file_extension": ".py",
   "mimetype": "text/x-python",
   "name": "python",
   "nbconvert_exporter": "python",
   "pygments_lexer": "ipython3",
   "version": "3.5.2"
  }
 },
 "nbformat": 4,
 "nbformat_minor": 2
}
