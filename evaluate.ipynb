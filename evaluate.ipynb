{
 "cells": [
  {
   "cell_type": "code",
   "execution_count": null,
   "metadata": {
    "collapsed": true
   },
   "outputs": [],
   "source": []
  },
  {
   "cell_type": "code",
   "execution_count": 42,
   "metadata": {
    "collapsed": false
   },
   "outputs": [
    {
     "name": "stdout",
     "output_type": "stream",
     "text": [
      "rank = [((0, 3), 16950), ((0, 5), 15474), ((0, 2), 9509), ((0, 4), 9092), ((0, 1), -24529)] score = 0.5 correct = (0, 5)\n",
      "rank = [((1, 3), 41479), ((1, 5), 40003), ((1, 2), 34038), ((1, 4), 33621), ((1, 0), 24529)] score = 0.3333333333333333 correct = (1, 2)\n",
      "rank = [((2, 3), 7441), ((2, 5), 5965), ((2, 4), -417), ((2, 0), -9509), ((2, 1), -34038)] score = 0.2 correct = (2, 1)\n",
      "rank = [((3, 5), -1476), ((3, 2), -7441), ((3, 4), -7858), ((3, 0), -16950), ((3, 1), -41479)] score = 0.3333333333333333 correct = (3, 4)\n",
      "rank = [((4, 3), 7858), ((4, 5), 6382), ((4, 2), 417), ((4, 0), -9092), ((4, 1), -33621)] score = 1.0 correct = (4, 3)\n",
      "rank = [((5, 3), 1476), ((5, 2), -5965), ((5, 4), -6382), ((5, 0), -15474), ((5, 1), -40003)] score = 0.25 correct = (5, 0)\n"
     ]
    }
   ],
   "source": [
    "from skimage import io, img_as_float\n",
    "import itertools\n",
    "import numpy as np\n",
    "import random\n",
    "\n",
    "def load_imgs(set_path):\n",
    "    imgs = {}\n",
    "    file = open(set_path + \"correct.txt\", mode=\"r\")\n",
    "    lines = file.readlines()\n",
    "    for i in range(0,len(lines)):\n",
    "        img = io.imread(set_path + str(i) + \".png\")\n",
    "        img = img_as_float(img)\n",
    "        imgs[i] = img\n",
    "    return imgs\n",
    "\n",
    "    \n",
    "def score_similarity(pair):\n",
    "    #TODO compare by better classifier\n",
    "    img1 = imgs[pair[0]]\n",
    "    img2 = imgs[pair[1]]\n",
    "    img1_nz = np.count_nonzero(img1)\n",
    "    img2_nz = np.count_nonzero(img2)\n",
    "\n",
    "    return img1_nz - img2_nz\n",
    "\n",
    "def load_correct_pairs(set_path):\n",
    "    result = []\n",
    "    file = open(set_path + \"correct.txt\", mode=\"r\")\n",
    "    lines = file.readlines()\n",
    "    for idx, line in enumerate(lines):\n",
    "        result.append((idx, int(line)))\n",
    "    return result\n",
    "\n",
    "\n",
    "def rank_pairs(pairs):\n",
    "    scores = []\n",
    "    for pair in pairs:\n",
    "        s = score_similarity(pair)\n",
    "        scores.append((pair, s))\n",
    "    return sorted(scores, key=lambda x: -x[1])\n",
    "\n",
    "\n",
    "def score_rank(rank, correct_pair):\n",
    "    for idx, elem in enumerate(rank):\n",
    "        if elem[0] == correct_pair:\n",
    "            return 1/(idx+1)\n",
    "    return 0\n",
    "correct_pairs = load_correct_pairs(\"data/set0/\")\n",
    "imgs = load_imgs(\"data/set0/\")\n",
    "for correct_pair in correct_pairs:\n",
    "    queried = correct_pair[0]\n",
    "    candidates = np.delete(np.arange(0,len(correct_pairs)), queried)\n",
    "    possible_pairs = list(itertools.product([queried],candidates))\n",
    "    rank = rank_pairs(possible_pairs)\n",
    "    print(\"rank = {} score = {} correct = {}\".format(rank, score_rank(rank,correct_pair), correct_pair))\n",
    "\n",
    "\n"
   ]
  }
 ],
 "metadata": {
  "kernelspec": {
   "display_name": "Python 3",
   "language": "python",
   "name": "python3"
  },
  "language_info": {
   "codemirror_mode": {
    "name": "ipython",
    "version": 3
   },
   "file_extension": ".py",
   "mimetype": "text/x-python",
   "name": "python",
   "nbconvert_exporter": "python",
   "pygments_lexer": "ipython3",
   "version": "3.5.2"
  }
 },
 "nbformat": 4,
 "nbformat_minor": 2
}
