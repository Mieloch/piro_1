{
 "cells": [
  {
   "cell_type": "code",
   "execution_count": 43,
   "metadata": {
    "collapsed": false
   },
   "outputs": [
    {
     "data": {
      "text/html": [
       "<style>.container { width:100% !important; }</style>"
      ],
      "text/plain": [
       "<IPython.core.display.HTML object>"
      ]
     },
     "metadata": {},
     "output_type": "display_data"
    }
   ],
   "source": [
    "from IPython.core.display import display, HTML\n",
    "display(HTML(\"<style>.container { width:100% !important; }</style>\"))"
   ]
  },
  {
   "cell_type": "code",
   "execution_count": null,
   "metadata": {
    "collapsed": false
   },
   "outputs": [],
   "source": [
    "from skimage import io, img_as_float\n",
    "import itertools\n",
    "import numpy as np\n",
    "import random\n",
    "\n",
    "def load_imgs(set_path):\n",
    "    imgs = {}\n",
    "    file = open(set_path + \"correct.txt\", mode=\"r\")\n",
    "    lines = file.readlines()\n",
    "    for i in range(0,len(lines)):\n",
    "        img = io.imread(set_path + str(i) + \".png\")\n",
    "        img = img_as_float(img)\n",
    "        imgs[i] = img\n",
    "    return imgs\n",
    "\n",
    "    \n",
    "def score_similarity(pair):\n",
    "    #TODO compare by better classifier\n",
    "    img1 = imgs[pair[0]]\n",
    "    img2 = imgs[pair[1]]\n",
    "    img1_nz = np.count_nonzero(img1)\n",
    "    img2_nz = np.count_nonzero(img2)\n",
    "\n",
    "    return img1_nz - img2_nz\n",
    "\n",
    "def load_correct_pairs(set_path):\n",
    "    result = []\n",
    "    file = open(set_path + \"correct.txt\", mode=\"r\")\n",
    "    lines = file.readlines()\n",
    "    for idx, line in enumerate(lines):\n",
    "        result.append((idx, int(line)))\n",
    "    return result\n",
    "\n",
    "\n",
    "def rank_pairs(pairs):\n",
    "    scores = []\n",
    "    for pair in pairs:\n",
    "        s = score_similarity(pair)\n",
    "        scores.append((pair, s))\n",
    "    return sorted(scores, key=lambda x: -x[1])\n",
    "\n",
    "\n",
    "def score_rank(rank, correct_pair):\n",
    "    for idx, elem in enumerate(rank):\n",
    "        if elem[0] == correct_pair:\n",
    "            return 1/(idx+1)\n",
    "    return 0\n",
    "\n",
    "\n",
    "def evaluate_set(set_path):\n",
    "    print(\"########### {} ###########\".format(set_path))\n",
    "    correct_pairs = load_correct_pairs(set_path)\n",
    "    for correct_pair in correct_pairs:\n",
    "        queried = correct_pair[0]\n",
    "        candidates = np.delete(np.arange(0,len(correct_pairs)), queried)\n",
    "        possible_pairs = list(itertools.product([queried],candidates))\n",
    "        rank = rank_pairs(possible_pairs)\n",
    "        print(\"score = {} rank = {} correct = {}\".format(score_rank(rank,correct_pair),rank,  correct_pair))    \n",
    "\n",
    "sets_to_evaluate = [\"data/set0/\",\"data/set1/\",\"data/set2/\",\"data/set3/\",\"data/set4/\",\"data/set5/\",\"data/set6/\",\"data/set7/\",\"data/set8/\"]\n",
    "for set_to_eval in sets_to_evaluate:\n",
    "    imgs = load_imgs(set_to_eval)\n",
    "    evaluate_set(set_to_eval)\n",
    "\n",
    "\n",
    "\n",
    "\n",
    "\n"
   ]
  }
 ],
 "metadata": {
  "kernelspec": {
   "display_name": "Python 3",
   "language": "python",
   "name": "python3"
  },
  "language_info": {
   "codemirror_mode": {
    "name": "ipython",
    "version": 3
   },
   "file_extension": ".py",
   "mimetype": "text/x-python",
   "name": "python",
   "nbconvert_exporter": "python",
   "pygments_lexer": "ipython3",
   "version": "3.5.2"
  }
 },
 "nbformat": 4,
 "nbformat_minor": 2
}
