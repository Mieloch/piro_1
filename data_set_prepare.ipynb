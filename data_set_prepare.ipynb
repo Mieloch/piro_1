{
 "cells": [
  {
   "cell_type": "code",
   "execution_count": 5,
   "metadata": {
    "collapsed": true
   },
   "outputs": [],
   "source": [
    "from skimage import io\n",
    "import pandas as pd\n",
    "import os\n",
    "import random\n",
    "import itertools\n",
    "set_dirs = os.listdir(\"data/\")\n",
    "data_set = []\n",
    "for set_dir in set_dirs:\n",
    "    if set_dir != \"set2\":\n",
    "        continue\n",
    "    path = \"data/\" + set_dir + \"/\"\n",
    "    file = open(path +\"correct.txt\")\n",
    "    lines = file.readlines()\n",
    "    product = list(itertools.product(range(0,len(lines)), repeat = 2))\n",
    "    correct_pairs = set()\n",
    "    for left_img, right_img in enumerate(lines):\n",
    "        correct_pairs.add((left_img,int(right_img.strip())))\n",
    "    for p in product:\n",
    "        if(p[0] == p[1]):\n",
    "            continue\n",
    "        y = \"1\" if p in correct_pairs else \"0\"\n",
    "        data_set.append({\"left\": path + str(p[0]) + \".png\",\"right\": path + str(p[1]) + \".png\",\"y\":y})\n",
    "df = pd.DataFrame(data_set)\n",
    "df.to_csv(\"data_set.csv\")\n",
    "\n",
    "    "
   ]
  }
 ],
 "metadata": {
  "kernelspec": {
   "display_name": "Python [conda root]",
   "language": "python",
   "name": "conda-root-py"
  },
  "language_info": {
   "codemirror_mode": {
    "name": "ipython",
    "version": 3
   },
   "file_extension": ".py",
   "mimetype": "text/x-python",
   "name": "python",
   "nbconvert_exporter": "python",
   "pygments_lexer": "ipython3",
   "version": "3.5.3"
  }
 },
 "nbformat": 4,
 "nbformat_minor": 2
}
