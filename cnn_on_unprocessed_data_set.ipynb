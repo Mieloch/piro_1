{
 "cells": [
  {
   "cell_type": "code",
   "execution_count": 1,
   "metadata": {},
   "outputs": [],
   "source": [
    "from skimage import io\n",
    "import pandas as pd\n",
    "from skimage.transform import rotate, resize, rescale\n",
    "from skimage.util import pad, invert, img_as_float\n",
    "import random\n",
    "import numpy as np\n",
    "from skimage import io\n",
    "\n",
    "#df = pd.DataFrame.from_csv(\"data_set.csv\")\n",
    "\n",
    "def normalize_shape(img):\n",
    "    max_shape = (200,200)\n",
    "    normalized = []\n",
    "    if img.shape[0] < max_shape[0] and img.shape[1] < max_shape[1]:\n",
    "        normalized = pad_to_size(img, max_shape)\n",
    "    else:\n",
    "        normalized = rescale(img, min(np.divide(max_shape, img.shape)))\n",
    "        normalized = pad_to_size(normalized, max_shape)\n",
    "    if normalized.shape != max_shape:\n",
    "        print(normalized.shape)\n",
    "    return normalized.reshape(200,200,1)\n",
    "\n",
    "def pad_to_size(img, size):\n",
    "    h, w = img.shape\n",
    "    p_up = int((size[0] - h)/2) +1\n",
    "    p_left = int((size[1] - w)/2) + 1\n",
    "    return pad(img, ((p_up,p_up),(p_left,p_left)), 'constant', constant_values=(0.0, 0.0))[0:size[0],0:size[1]]    \n",
    "\n",
    "def load_file(path):\n",
    "    img = io.imread(path)\n",
    "    img = img_as_float(img)    \n",
    "    return normalize_shape(img)\n",
    "\n",
    "\n"
   ]
  },
  {
   "cell_type": "code",
   "execution_count": 2,
   "metadata": {},
   "outputs": [
    {
     "name": "stdout",
     "output_type": "stream",
     "text": [
      "sample 0/3630\n"
     ]
    },
    {
     "name": "stderr",
     "output_type": "stream",
     "text": [
      "/home/sirpawel/anaconda3/lib/python3.6/site-packages/skimage/transform/_warps.py:84: UserWarning: The default mode, 'constant', will be changed to 'reflect' in skimage 0.15.\n",
      "  warn(\"The default mode, 'constant', will be changed to 'reflect' in \"\n"
     ]
    },
    {
     "name": "stdout",
     "output_type": "stream",
     "text": [
      "sample 1000/3630\n",
      "sample 2000/3630\n",
      "sample 3000/3630\n"
     ]
    }
   ],
   "source": [
    "df = pd.DataFrame.from_csv(\"validation_set.csv\")\n",
    "for idx, row in df.iterrows():\n",
    "    if idx % 1000 == 0:\n",
    "        print(\"sample {}/{}\".format(idx, len(df)))\n",
    "    df.set_value(idx, \"left\", load_file(row[\"left\"]))\n",
    "    df.set_value(idx, \"right\", load_file(row[\"right\"]))\n"
   ]
  },
  {
   "cell_type": "code",
   "execution_count": null,
   "metadata": {},
   "outputs": [
    {
     "name": "stdout",
     "output_type": "stream",
     "text": [
      "__________________________________________________________________________________________________\n",
      "Layer (type)                    Output Shape         Param #     Connected to                     \n",
      "==================================================================================================\n",
      "input_11 (InputLayer)           (None, 200, 200, 1)  0                                            \n",
      "__________________________________________________________________________________________________\n",
      "input_12 (InputLayer)           (None, 200, 200, 1)  0                                            \n",
      "__________________________________________________________________________________________________\n",
      "model_7 (Model)                 (None, 32)           2270672     input_11[0][0]                   \n",
      "                                                                 input_12[0][0]                   \n",
      "__________________________________________________________________________________________________\n",
      "concatenate_4 (Concatenate)     (None, 64)           0           model_7[1][0]                    \n",
      "                                                                 model_7[2][0]                    \n",
      "__________________________________________________________________________________________________\n",
      "dense_14 (Dense)                (None, 128)          8320        concatenate_4[0][0]              \n",
      "__________________________________________________________________________________________________\n",
      "dropout_11 (Dropout)            (None, 128)          0           dense_14[0][0]                   \n",
      "__________________________________________________________________________________________________\n",
      "dense_15 (Dense)                (None, 64)           8256        dropout_11[0][0]                 \n",
      "__________________________________________________________________________________________________\n",
      "dropout_12 (Dropout)            (None, 64)           0           dense_15[0][0]                   \n",
      "__________________________________________________________________________________________________\n",
      "dense_16 (Dense)                (None, 1)            65          dropout_12[0][0]                 \n",
      "==================================================================================================\n",
      "Total params: 2,287,313\n",
      "Trainable params: 2,287,105\n",
      "Non-trainable params: 208\n",
      "__________________________________________________________________________________________________\n",
      "Epoch 1/30\n"
     ]
    },
    {
     "name": "stderr",
     "output_type": "stream",
     "text": [
      "/home/sirpawel/anaconda3/lib/python3.6/site-packages/skimage/transform/_warps.py:84: UserWarning: The default mode, 'constant', will be changed to 'reflect' in skimage 0.15.\n",
      "  warn(\"The default mode, 'constant', will be changed to 'reflect' in \"\n"
     ]
    },
    {
     "name": "stdout",
     "output_type": "stream",
     "text": [
      "33039/33039 [==============================] - 668s 20ms/step - loss: 0.6813 - acc: 0.6578 - val_loss: 2.6886 - val_acc: 0.8331\n",
      "Epoch 2/30\n",
      "33039/33039 [==============================] - 666s 20ms/step - loss: 0.6941 - acc: 0.6539 - val_loss: 2.6797 - val_acc: 0.8331\n",
      "Epoch 3/30\n",
      " 7705/33039 [=====>........................] - ETA: 8:16 - loss: 0.6957 - acc: 0.6493"
     ]
    }
   ],
   "source": [
    "from keras.layers import Input, Dense, Dropout, Conv2D, Flatten, MaxPooling2D, concatenate, BatchNormalization, Activation\n",
    "from keras.losses import hinge\n",
    "import keras.backend as K\n",
    "from keras.models import Model\n",
    "from keras import optimizers\n",
    "import csv\n",
    "INPUT_SHAPE = (200,200,1)\n",
    "\n",
    "\n",
    "\n",
    "\n",
    "def generate_arrays_from_file(path, batch_size):\n",
    "    i = 0\n",
    "    l = []\n",
    "    r = []\n",
    "    y_s = []\n",
    "    while True:\n",
    "        with open('data_set.csv', newline='') as csvfile:\n",
    "            reader = csv.reader(csvfile, delimiter=',')\n",
    "            next(reader, None)\n",
    "            for row in reader:\n",
    "                if i % batch_size:\n",
    "                    yield [np.array(l), np.array(r)], np.array(y_s)\n",
    "                    l = []\n",
    "                    r = []\n",
    "                    y_s = []\n",
    "                \n",
    "                l.append(load_file(row[1]))\n",
    "                r.append(load_file(row[2]))\n",
    "                y_s.append(int(row[3]))\n",
    "                i+=1\n",
    "\n",
    "\n",
    "img_in = Input(shape=INPUT_SHAPE)\n",
    "n_layer = img_in\n",
    "for i in range(2):\n",
    "    n_layer = Conv2D(8*2**i, kernel_size = (3,3), activation = 'linear')(n_layer)\n",
    "    n_layer = BatchNormalization()(n_layer)\n",
    "    n_layer = Activation('relu')(n_layer)\n",
    "    n_layer = Conv2D(16*2**i, kernel_size = (3,3), activation = 'linear')(n_layer)\n",
    "    n_layer = BatchNormalization()(n_layer)\n",
    "    n_layer = Activation('relu')(n_layer)\n",
    "    n_layer = MaxPooling2D((2,2))(n_layer)\n",
    "\n",
    "n_layer = Flatten()(n_layer)\n",
    "n_layer = Dense(32, activation = 'linear')(n_layer)\n",
    "n_layer = Dropout(0.5)(n_layer)\n",
    "n_layer = BatchNormalization()(n_layer)\n",
    "n_layer = Activation('relu')(n_layer)\n",
    "feature_model = Model(inputs = [img_in], outputs = [n_layer])\n",
    "\n",
    "\n",
    "\n",
    "x_l_input = Input(shape=INPUT_SHAPE)\n",
    "x_r_input = Input(shape=INPUT_SHAPE)\n",
    "\n",
    "x_l_feat = feature_model(x_l_input)\n",
    "x_r_feat = feature_model(x_r_input)\n",
    "\n",
    "\n",
    "merged_vector = concatenate([x_l_feat, x_r_feat], axis=-1)\n",
    "\n",
    "merged_vector = Dense(128, activation = \"relu\")(merged_vector)\n",
    "merged_vector = Dropout(0.5)(merged_vector)\n",
    "\n",
    "merged_vector = Dense(64, activation = \"relu\")(merged_vector)\n",
    "merged_vector = Dropout(0.5)(merged_vector)\n",
    "\n",
    "prediction = Dense(1, activation = \"sigmoid\")(merged_vector)\n",
    "\n",
    "model = Model(inputs=[x_l_input,x_r_input], outputs=prediction)\n",
    "model.compile(optimizer=\"adadelta\",\n",
    "              loss=\"binary_crossentropy\",\n",
    "              metrics=['accuracy'])\n",
    "\n",
    "model.summary()\n",
    "\n",
    "\n",
    "X = np.array(list(zip(df[\"left\"].values,df[\"right\"].values)))\n",
    "Y = df[\"y\"].values\n",
    "X_val_right = np.array( X[:,1])\n",
    "X_val_left = np.array(X[:,0])\n",
    "\n",
    "trained_model = model.fit_generator(\n",
    "    generate_arrays_from_file('data_set.csv', 64),\n",
    "    steps_per_epoch=int(2114497/64),\n",
    "    epochs=30,\n",
    "    validation_data = ([X_val_left, X_val_right],Y))\n",
    "\n"
   ]
  },
  {
   "cell_type": "code",
   "execution_count": 164,
   "metadata": {},
   "outputs": [
    {
     "name": "stdout",
     "output_type": "stream",
     "text": [
      "Train set accuracy score = 0.831547838936\n",
      "Train set recall score = 0.414634146341\n",
      "Train set precission score = 1.0\n",
      "Test set accuracy score = 0.751107828656\n",
      "Test set recall score = 0.126943005181\n",
      "Test set precission score = 1.0\n"
     ]
    },
    {
     "data": {
      "image/png": "[encoded data removed]",
      "text/plain": [
       "<matplotlib.figure.Figure at 0x7fd4e5ba0320>"
      ]
     },
     "metadata": {},
     "output_type": "display_data"
    },
    {
     "data": {
      "image/png": "[encoded data removed]",
      "text/plain": [
       "<matplotlib.figure.Figure at 0x7fd4e58f29b0>"
      ]
     },
     "metadata": {},
     "output_type": "display_data"
    },
    {
     "data": {
      "text/plain": [
       "<matplotlib.figure.Figure at 0x7fd4e2f6bc50>"
      ]
     },
     "metadata": {},
     "output_type": "display_data"
    }
   ],
   "source": [
    "from sklearn.metrics import accuracy_score\n",
    "from sklearn.metrics import precision_score\n",
    "from sklearn.metrics import recall_score\n",
    "import matplotlib.pyplot as plt\n",
    "\n",
    "# eval train\n",
    "predict_train = np.array(model.predict([X_train_left,X_train_right ]))\n",
    "predict_train = np.round(np.clip(predict_train.flatten(), a_min=0, a_max=1))\n",
    "\n",
    "print(\"Train set accuracy score =\", accuracy_score(Y_train, predict_train))\n",
    "print(\"Train set recall score =\", recall_score(Y_train, predict_train, average=\"binary\"))\n",
    "print(\"Train set precission score =\", precision_score(Y_train, predict_train, average=\"binary\"))\n",
    "\n",
    "# eval val\n",
    "predict_validation = np.array(model.predict([X_val_left, X_val_right]))\n",
    "predict_validation = np.round(np.clip(predict_validation.flatten(), a_min=0, a_max=1))\n",
    "print(\"Test set accuracy score =\", accuracy_score(Y_validation, predict_validation))\n",
    "print(\"Test set recall score =\", recall_score(Y_validation, predict_validation, average=\"binary\"))\n",
    "print(\"Test set precission score =\", precision_score(Y_validation, predict_validation, average=\"binary\"))\n",
    "\n",
    "%matplotlib inline\n",
    "# plot accuracy\n",
    "plt.plot(trained_model.history['acc'])\n",
    "plt.plot(trained_model.history['val_acc'])\n",
    "plt.title('Model Accuracy')\n",
    "plt.ylabel('Accuracy')\n",
    "plt.xlabel('Epoch')\n",
    "plt.legend(['Train', 'Validation'], loc='upper left')\n",
    "plt.show()\n",
    "plt.gcf().clear()\n",
    "# plot loss\n",
    "plt.plot(trained_model.history['loss'])\n",
    "plt.plot(trained_model.history['val_loss'])\n",
    "plt.title('Model Loss')\n",
    "plt.ylabel('Loss')\n",
    "plt.xlabel('Epoch')\n",
    "plt.legend(['Train', 'Validation'], loc='upper right')\n",
    "plt.show()\n",
    "plt.gcf().clear()"
   ]
  },
  {
   "cell_type": "code",
   "execution_count": null,
   "metadata": {
    "collapsed": true
   },
   "outputs": [],
   "source": []
  }
 ],
 "metadata": {
  "kernelspec": {
   "display_name": "Python 3",
   "language": "python",
   "name": "python3"
  },
  "language_info": {
   "codemirror_mode": {
    "name": "ipython",
    "version": 3
   },
   "file_extension": ".py",
   "mimetype": "text/x-python",
   "name": "python",
   "nbconvert_exporter": "python",
   "pygments_lexer": "ipython3",
   "version": "3.6.3"
  }
 },
 "nbformat": 4,
 "nbformat_minor": 2
}
